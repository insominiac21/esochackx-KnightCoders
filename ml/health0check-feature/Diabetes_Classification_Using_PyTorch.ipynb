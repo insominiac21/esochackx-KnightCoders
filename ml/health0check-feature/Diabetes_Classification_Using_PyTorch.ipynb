{
  "cells": [
    {
      "source": [
        "# IMPORTANT: RUN THIS CELL IN ORDER TO IMPORT YOUR KAGGLE DATA SOURCES,\n",
        "# THEN FEEL FREE TO DELETE THIS CELL.\n",
        "# NOTE: THIS NOTEBOOK ENVIRONMENT DIFFERS FROM KAGGLE'S PYTHON\n",
        "# ENVIRONMENT SO THERE MAY BE MISSING LIBRARIES USED BY YOUR\n",
        "# NOTEBOOK.\n",
        "import kagglehub\n",
        "organizations_uciml_pima_indians_diabetes_database_path = kagglehub.dataset_download('organizations/uciml/pima-indians-diabetes-database')\n",
        "\n",
        "print('Data source import complete.')\n"
      ],
      "metadata": {
        "id": "yg5gBZjYtp0E"
      },
      "cell_type": "code",
      "outputs": [],
      "execution_count": null
    },
    {
      "metadata": {
        "_uuid": "8f2839f25d086af736a60e9eeb907d3b93b6e0e5",
        "_cell_guid": "b1076dfc-b9ad-4769-8c92-a6c4dae69d19",
        "trusted": true,
        "id": "NZqg69i5tp0H"
      },
      "cell_type": "code",
      "source": [
        "# This Python 3 environment comes with many helpful analytics libraries installed\n",
        "# It is defined by the kaggle/python Docker image: https://github.com/kaggle/docker-python\n",
        "# For example, here's several helpful packages to load\n",
        "\n",
        "import numpy as np # linear algebra\n",
        "import pandas as pd # data processing, CSV file I/O (e.g. pd.read_csv)\n",
        "\n",
        "# Input data files are available in the read-only \"../input/\" directory\n",
        "# For example, running this (by clicking run or pressing Shift+Enter) will list all files under the input directory\n",
        "\n",
        "import os\n",
        "for dirname, _, filenames in os.walk('/kaggle/input'):\n",
        "    for filename in filenames:\n",
        "        print(os.path.join(dirname, filename))\n",
        "\n",
        "# You can write up to 20GB to the current directory (/kaggle/working/) that gets preserved as output when you create a version using \"Save & Run All\"\n",
        "# You can also write temporary files to /kaggle/temp/, but they won't be saved outside of the current session"
      ],
      "execution_count": null,
      "outputs": []
    },
    {
      "metadata": {
        "_uuid": "d629ff2d2480ee46fbb7e2d37f6b5fab8052498a",
        "_cell_guid": "79c7e3d0-c299-4dcb-8224-4455121ee9b0",
        "trusted": true,
        "id": "pqFM0bpKtp0N"
      },
      "cell_type": "code",
      "source": [
        "#importing Libraries\n",
        "import seaborn as sns\n",
        "import numpy as np\n",
        "import pandas as pd\n",
        "\n",
        "import torch\n",
        "import torch.nn as nn\n",
        "import torch.nn.functional as F\n",
        "\n",
        "from sklearn.model_selection import train_test_split\n",
        "from sklearn.metrics import accuracy_score\n",
        "from sklearn.metrics import confusion_matrix\n",
        "import matplotlib.pyplot as plt"
      ],
      "execution_count": null,
      "outputs": []
    },
    {
      "metadata": {
        "id": "J24Tuig9tp0O"
      },
      "cell_type": "markdown",
      "source": [
        "## EDA"
      ]
    },
    {
      "metadata": {
        "trusted": true,
        "id": "5IX-X3DLtp0P"
      },
      "cell_type": "code",
      "source": [
        "df2 = pd.read_csv('../input/pima-indians-diabetes-database/diabetes.csv')\n",
        "df2.head()"
      ],
      "execution_count": null,
      "outputs": []
    },
    {
      "metadata": {
        "trusted": true,
        "id": "yZOWlhBFtp0R"
      },
      "cell_type": "code",
      "source": [
        "df2.isnull().sum()"
      ],
      "execution_count": null,
      "outputs": []
    },
    {
      "metadata": {
        "trusted": true,
        "id": "AaQPcgNetp0S"
      },
      "cell_type": "code",
      "source": [
        "patient_count = df2['Outcome'].value_counts()\n",
        "plt.figure(figsize=(7,5))\n",
        "sns.barplot(patient_count.index, patient_count.values, alpha=0.8 , palette = 'rocket')"
      ],
      "execution_count": null,
      "outputs": []
    },
    {
      "metadata": {
        "trusted": true,
        "id": "8Ddb6cwntp0T"
      },
      "cell_type": "code",
      "source": [
        "sns.distplot(df2['Glucose'])"
      ],
      "execution_count": null,
      "outputs": []
    },
    {
      "metadata": {
        "trusted": true,
        "id": "WMSR1p2Mtp0T"
      },
      "cell_type": "code",
      "source": [
        "sns.distplot(df2['BMI'])"
      ],
      "execution_count": null,
      "outputs": []
    },
    {
      "metadata": {
        "trusted": true,
        "id": "rTVJFJ3ltp0U"
      },
      "cell_type": "code",
      "source": [
        "sns.distplot(df2['BloodPressure'])"
      ],
      "execution_count": null,
      "outputs": []
    },
    {
      "metadata": {
        "trusted": true,
        "id": "QQu_L83Otp0U"
      },
      "cell_type": "code",
      "source": [
        "df2[\"Outcome\"] = np.where(df2[\"Outcome\"] == 1 ,\"Diabetic\",\"No Diabetic\")\n",
        "sns.pairplot(df2 , hue =\"Outcome\")"
      ],
      "execution_count": null,
      "outputs": []
    },
    {
      "metadata": {
        "id": "Km8sUBYatp0V"
      },
      "cell_type": "markdown",
      "source": [
        "## Prediction"
      ]
    },
    {
      "metadata": {
        "trusted": true,
        "id": "wzMYmSCPtp0V"
      },
      "cell_type": "code",
      "source": [
        " df = pd.read_csv('../input/pima-indians-diabetes-database/diabetes.csv')"
      ],
      "execution_count": null,
      "outputs": []
    },
    {
      "metadata": {
        "trusted": true,
        "id": "tvp1kYZ5tp0V"
      },
      "cell_type": "code",
      "source": [
        "X = df.drop('Outcome' , axis = 1) #independent Feature\n",
        "y = df['Outcome'] #dependent Feature"
      ],
      "execution_count": null,
      "outputs": []
    },
    {
      "metadata": {
        "trusted": true,
        "id": "NRCgFzOWtp0W"
      },
      "cell_type": "code",
      "source": [
        "from sklearn.model_selection import train_test_split\n",
        "X_train,X_test,y_train,y_test = train_test_split(X,y , test_size =0.2,random_state=0)"
      ],
      "execution_count": null,
      "outputs": []
    },
    {
      "metadata": {
        "trusted": true,
        "id": "0S6cdT_ntp0W"
      },
      "cell_type": "code",
      "source": [
        "# Creating Tensors\n",
        "X_train=torch.FloatTensor(X_train.values)\n",
        "X_test=torch.FloatTensor(X_test.values)\n",
        "y_train=torch.LongTensor(y_train.values)\n",
        "y_test=torch.LongTensor(y_test.values)"
      ],
      "execution_count": null,
      "outputs": []
    },
    {
      "metadata": {
        "trusted": true,
        "id": "c97dKBiItp0X"
      },
      "cell_type": "code",
      "source": [
        "#Creating the Model\n",
        "class ANN_model(nn.Module):\n",
        "    def __init__(self,input_features=8,hidden1=20, hidden2=10,out_features=2):\n",
        "        super().__init__()\n",
        "        self.f_connected1 = nn.Linear(input_features,hidden1)\n",
        "        self.f_connected2 = nn.Linear(hidden1,hidden2)\n",
        "        self.out = nn.Linear(hidden2,out_features)\n",
        "\n",
        "    def forward(self,x):\n",
        "        x = F.relu(self.f_connected1(x))\n",
        "        x = F.relu(self.f_connected2(x))\n",
        "        x = self.out(x)\n",
        "        return x"
      ],
      "execution_count": null,
      "outputs": []
    },
    {
      "metadata": {
        "trusted": true,
        "id": "PZA1uSGwtp0Y"
      },
      "cell_type": "code",
      "source": [
        "torch.manual_seed(20)\n",
        "model = ANN_model()"
      ],
      "execution_count": null,
      "outputs": []
    },
    {
      "metadata": {
        "trusted": true,
        "id": "tQlTYfGmtp0Y"
      },
      "cell_type": "code",
      "source": [
        "model.parameters"
      ],
      "execution_count": null,
      "outputs": []
    },
    {
      "metadata": {
        "trusted": true,
        "id": "CQipnbEitp0Z"
      },
      "cell_type": "code",
      "source": [
        "# Backward Propergation - loss and optimizer\n",
        "loss_function = nn.CrossEntropyLoss()\n",
        "optimizer = torch.optim.Adam(model.parameters(),lr=0.01)"
      ],
      "execution_count": null,
      "outputs": []
    },
    {
      "metadata": {
        "trusted": true,
        "id": "VbCuf8G8tp0Z"
      },
      "cell_type": "code",
      "source": [
        "epochs=500\n",
        "final_losses=[]\n",
        "for i in range(epochs):\n",
        "    i= i+1\n",
        "    y_pred=model.forward(X_train)\n",
        "    loss=loss_function(y_pred,y_train)\n",
        "    final_losses.append(loss)\n",
        "    if i % 10 == 1:\n",
        "        print(\"Epoch number: {} and the loss : {}\".format(i,loss.item()))\n",
        "    optimizer.zero_grad()\n",
        "    loss.backward()\n",
        "    optimizer.step()"
      ],
      "execution_count": null,
      "outputs": []
    },
    {
      "metadata": {
        "trusted": true,
        "id": "lHr4Q4-6tp0a"
      },
      "cell_type": "code",
      "source": [
        "#plot the loss function\n",
        "plt.plot(range(epochs),final_losses)\n",
        "plt.ylabel('Loss')\n",
        "plt.ylabel('Epochs')"
      ],
      "execution_count": null,
      "outputs": []
    },
    {
      "metadata": {
        "trusted": true,
        "id": "_46lMG9Ztp0a"
      },
      "cell_type": "code",
      "source": [
        "predictions = []\n",
        "with torch.no_grad():\n",
        "    for i,data in enumerate(X_test):\n",
        "        y_pred = model(data)\n",
        "        predictions.append(y_pred.argmax().item())"
      ],
      "execution_count": null,
      "outputs": []
    },
    {
      "metadata": {
        "trusted": true,
        "id": "xsBkL9HOtp0a"
      },
      "cell_type": "code",
      "source": [
        "cm = confusion_matrix(y_test,predictions)\n",
        "cm\n",
        "sns.heatmap(cm,annot=True)\n",
        "plt.xlabel('Actual')\n",
        "plt.ylabel('Predicted')"
      ],
      "execution_count": null,
      "outputs": []
    },
    {
      "metadata": {
        "trusted": true,
        "id": "Y4_nsE0Ptp0a"
      },
      "cell_type": "code",
      "source": [
        "#Accuracy\n",
        "score = accuracy_score(y_test , predictions)\n",
        "print(score)"
      ],
      "execution_count": null,
      "outputs": []
    }
  ],
  "metadata": {
    "kernelspec": {
      "language": "python",
      "display_name": "Python 3",
      "name": "python3"
    },
    "language_info": {
      "pygments_lexer": "ipython3",
      "nbconvert_exporter": "python",
      "version": "3.6.4",
      "file_extension": ".py",
      "codemirror_mode": {
        "name": "ipython",
        "version": 3
      },
      "name": "python",
      "mimetype": "text/x-python"
    },
    "colab": {
      "name": "Pima Diabetes Classification Using PyTorch",
      "provenance": []
    }
  },
  "nbformat": 4,
  "nbformat_minor": 0
}